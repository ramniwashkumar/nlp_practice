{
 "cells": [
  {
   "cell_type": "code",
   "execution_count": 2,
   "id": "fbf5cde5",
   "metadata": {},
   "outputs": [],
   "source": [
    "import nltk"
   ]
  },
  {
   "cell_type": "code",
   "execution_count": null,
   "id": "5994c9db",
   "metadata": {},
   "outputs": [
    {
     "data": {
      "application/javascript": [
       "\n",
       "        if (window._pyforest_update_imports_cell) { window._pyforest_update_imports_cell('import nltk'); }\n",
       "    "
      ],
      "text/plain": [
       "<IPython.core.display.Javascript object>"
      ]
     },
     "metadata": {},
     "output_type": "display_data"
    },
    {
     "name": "stdout",
     "output_type": "stream",
     "text": [
      "showing info https://raw.githubusercontent.com/nltk/nltk_data/gh-pages/index.xml\n"
     ]
    }
   ],
   "source": [
    "nltk.download()"
   ]
  },
  {
   "cell_type": "code",
   "execution_count": 5,
   "id": "616c6b37",
   "metadata": {},
   "outputs": [
    {
     "data": {
      "text/plain": [
       "['I', 'am', 'Ramniwash', 'Kumar']"
      ]
     },
     "execution_count": 5,
     "metadata": {},
     "output_type": "execute_result"
    }
   ],
   "source": [
    "from nltk.tokenize import word_tokenize\n",
    "word_tokenize(\"I am Ramniwash Kumar\")"
   ]
  },
  {
   "cell_type": "code",
   "execution_count": 7,
   "id": "4d9a3891",
   "metadata": {},
   "outputs": [
    {
     "data": {
      "text/plain": [
       "['I', 'ca', \"n't\", 'swim']"
      ]
     },
     "execution_count": 7,
     "metadata": {},
     "output_type": "execute_result"
    }
   ],
   "source": [
    "word_tokenize(\"I can't swim\")"
   ]
  },
  {
   "cell_type": "code",
   "execution_count": 3,
   "id": "3a6981b4",
   "metadata": {},
   "outputs": [
    {
     "data": {
      "text/plain": [
       "['I', 'do', \"n't\", 'smoke']"
      ]
     },
     "execution_count": 3,
     "metadata": {},
     "output_type": "execute_result"
    }
   ],
   "source": [
    "from nltk.tokenize import TreebankWordTokenizer\n",
    "tokenizer_wrd=TreebankWordTokenizer()\n",
    "tokenizer_wrd.tokenize(\"I don't smoke\")"
   ]
  },
  {
   "cell_type": "code",
   "execution_count": 6,
   "id": "45e57109",
   "metadata": {},
   "outputs": [
    {
     "data": {
      "text/plain": [
       "['wo', \"n't\"]"
      ]
     },
     "execution_count": 6,
     "metadata": {},
     "output_type": "execute_result"
    }
   ],
   "source": [
    "tokenizer_wrd.tokenize(\"won't\")"
   ]
  },
  {
   "cell_type": "code",
   "execution_count": 8,
   "id": "52c5c7bf",
   "metadata": {},
   "outputs": [
    {
     "data": {
      "text/plain": [
       "['I', 'don', \"'\", 't', 'smoke']"
      ]
     },
     "execution_count": 8,
     "metadata": {},
     "output_type": "execute_result"
    }
   ],
   "source": [
    "from nltk.tokenize import WordPunctTokenizer\n",
    "wrdpunct_tokenizer=WordPunctTokenizer()\n",
    "wrdpunct_tokenizer.tokenize(\"I don't smoke\")"
   ]
  },
  {
   "cell_type": "code",
   "execution_count": 16,
   "id": "b1fd3895",
   "metadata": {},
   "outputs": [
    {
     "data": {
      "text/plain": [
       "['I', \"don't\", 'smoke']"
      ]
     },
     "execution_count": 16,
     "metadata": {},
     "output_type": "execute_result"
    }
   ],
   "source": [
    "from nltk.tokenize import RegexpTokenizer\n",
    "regex_tokenizer=RegexpTokenizer(\"[\\w']+\")\n",
    "regex_tokenizer.tokenize(\"I don't smoke\")"
   ]
  },
  {
   "cell_type": "code",
   "execution_count": 18,
   "id": "04def5aa",
   "metadata": {},
   "outputs": [
    {
     "data": {
      "text/plain": [
       "[\"I won't smoke\"]"
      ]
     },
     "execution_count": 18,
     "metadata": {},
     "output_type": "execute_result"
    }
   ],
   "source": [
    "from nltk.tokenize import RegexpTokenizer\n",
    "regex_tokenizer=RegexpTokenizer('/s+', gaps=True)\n",
    "regex_tokenizer.tokenize(\"I won't smoke\")"
   ]
  },
  {
   "cell_type": "code",
   "execution_count": 9,
   "id": "a1551741",
   "metadata": {},
   "outputs": [
    {
     "data": {
      "text/plain": [
       "['I am Bipul.', 'I want to play table tennis.']"
      ]
     },
     "execution_count": 9,
     "metadata": {},
     "output_type": "execute_result"
    }
   ],
   "source": [
    "from nltk.tokenize import sent_tokenize\n",
    "sent_tokenize(\"I am Bipul. I want to play table tennis.\")"
   ]
  },
  {
   "cell_type": "code",
   "execution_count": 1,
   "id": "7a41e76c",
   "metadata": {},
   "outputs": [],
   "source": [
    "from nltk.corpus import webtext"
   ]
  },
  {
   "cell_type": "code",
   "execution_count": 2,
   "id": "2f66af89",
   "metadata": {},
   "outputs": [
    {
     "data": {
      "text/plain": [
       "'Flask==1.1.2.\\r\\njoblib==1.1.0.\\r\\npandas==1.3.4.\\r\\nscikit_learn==1.0.1.\\r\\n'"
      ]
     },
     "execution_count": 2,
     "metadata": {},
     "output_type": "execute_result"
    }
   ],
   "source": [
    "txt=webtext.raw('C:/Users/ramni/PycharmProjects/FynnProject1/requirements.txt')\n",
    "txt"
   ]
  },
  {
   "cell_type": "code",
   "execution_count": 122,
   "id": "0fbe9388",
   "metadata": {},
   "outputs": [
    {
     "data": {
      "text/plain": [
       "['Flask==1.1.2.', 'joblib==1.1.0.', 'pandas==1.3.4.', 'scikit_learn==1.0.1.']"
      ]
     },
     "execution_count": 122,
     "metadata": {},
     "output_type": "execute_result"
    }
   ],
   "source": [
    "from nltk.tokenize import PunktSentenceTokenizer\n",
    "sent_tokenizer= PunktSentenceTokenizer()\n",
    "sent_tokenizer.tokenize(txt)"
   ]
  },
  {
   "cell_type": "code",
   "execution_count": null,
   "id": "f78e7d0f",
   "metadata": {},
   "outputs": [],
   "source": []
  },
  {
   "cell_type": "code",
   "execution_count": null,
   "id": "b89a744d",
   "metadata": {},
   "outputs": [],
   "source": []
  },
  {
   "cell_type": "code",
   "execution_count": null,
   "id": "f37e233e",
   "metadata": {},
   "outputs": [],
   "source": []
  },
  {
   "cell_type": "code",
   "execution_count": null,
   "id": "f06b1297",
   "metadata": {},
   "outputs": [],
   "source": []
  },
  {
   "cell_type": "code",
   "execution_count": 7,
   "id": "a6397ab8",
   "metadata": {},
   "outputs": [
    {
     "data": {
      "text/plain": [
       "['arabic',\n",
       " 'azerbaijani',\n",
       " 'bengali',\n",
       " 'danish',\n",
       " 'dutch',\n",
       " 'english',\n",
       " 'finnish',\n",
       " 'french',\n",
       " 'german',\n",
       " 'greek',\n",
       " 'hungarian',\n",
       " 'indonesian',\n",
       " 'italian',\n",
       " 'kazakh',\n",
       " 'nepali',\n",
       " 'norwegian',\n",
       " 'portuguese',\n",
       " 'romanian',\n",
       " 'russian',\n",
       " 'slovene',\n",
       " 'spanish',\n",
       " 'swedish',\n",
       " 'tajik',\n",
       " 'turkish']"
      ]
     },
     "execution_count": 7,
     "metadata": {},
     "output_type": "execute_result"
    }
   ],
   "source": [
    "from nltk.corpus import stopwords\n",
    "stopwords.fileids()"
   ]
  },
  {
   "cell_type": "code",
   "execution_count": 8,
   "id": "9fe2cd41",
   "metadata": {},
   "outputs": [
    {
     "name": "stdout",
     "output_type": "stream",
     "text": [
      "{'than', 'with', 'when', 'their', 'this', 'then', 'few', 'its', 'hadn', 'on', 'own', 'shouldn', 'o', 'have', 'below', 'the', 'because', \"wouldn't\", 'why', 'we', 'him', \"won't\", 'at', 'ma', 'he', 'not', 'no', 'during', 'most', 'd', 'my', 'm', 'by', \"didn't\", 'them', 'me', 'which', 'again', 'be', 'are', 'very', 'was', 'his', 's', 'were', 'haven', 'under', 'into', \"mustn't\", \"shan't\", \"couldn't\", 'how', 'who', 'now', 'other', 'up', 'same', \"wasn't\", 'whom', 'she', 'where', 'all', 'only', 'itself', 'these', 'just', 'after', 'above', 'there', 'theirs', 'about', 'an', 'herself', 'having', 'won', \"you're\", 'themselves', 'you', 'do', 'a', 'until', 'yourselves', 'against', 'in', 'once', 'nor', \"doesn't\", 'doing', 'so', 'your', 'from', 'aren', 'over', 'those', 'before', 'don', 'needn', 'myself', 're', 'yours', 'will', \"don't\", 'has', 'ain', \"that'll\", 'did', 'but', 'any', 'ours', 'out', 'between', \"should've\", 'while', 'i', 'shan', \"weren't\", 'if', 'being', \"hasn't\", 'off', 'weren', 'wasn', \"you'd\", 'wouldn', 'been', \"you've\", 'that', 'each', 'hers', 'what', 'some', \"isn't\", 'mustn', 'does', 'ourselves', 'they', 'to', 'had', 'as', 'mightn', 'through', 'can', 'down', 'didn', 'himself', \"it's\", \"haven't\", 'for', 'too', 'am', 'more', \"needn't\", 'our', 'and', 'yourself', 'here', 'should', \"you'll\", \"hadn't\", 'hasn', \"mightn't\", 'both', 'or', 'll', 'doesn', 'further', 'her', 'it', 'y', \"shouldn't\", 'isn', \"she's\", 't', 've', 'of', \"aren't\", 'couldn', 'is', 'such'}\n"
     ]
    }
   ],
   "source": [
    "english_stops=set(stopwords.words('english'))\n",
    "print(english_stops)"
   ]
  },
  {
   "cell_type": "code",
   "execution_count": 9,
   "id": "f4bb85ce",
   "metadata": {},
   "outputs": [
    {
     "data": {
      "text/plain": [
       "['I', 'Bipul']"
      ]
     },
     "execution_count": 9,
     "metadata": {},
     "output_type": "execute_result"
    }
   ],
   "source": [
    "words=['I','am','Bipul']\n",
    "[i for i in words if i not in english_stops]"
   ]
  },
  {
   "cell_type": "code",
   "execution_count": null,
   "id": "31bdeb74",
   "metadata": {},
   "outputs": [],
   "source": []
  },
  {
   "cell_type": "code",
   "execution_count": null,
   "id": "60dbddf3",
   "metadata": {},
   "outputs": [],
   "source": []
  },
  {
   "cell_type": "code",
   "execution_count": 81,
   "id": "1ccb0058",
   "metadata": {},
   "outputs": [
    {
     "data": {
      "text/plain": [
       "[Synset('cow.n.01'),\n",
       " Synset('cow.n.02'),\n",
       " Synset('cow.n.03'),\n",
       " Synset('overawe.v.01')]"
      ]
     },
     "execution_count": 81,
     "metadata": {},
     "output_type": "execute_result"
    }
   ],
   "source": [
    "from nltk.corpus import wordnet as wn\n",
    "sys = wn.synsets('cow')\n",
    "sys"
   ]
  },
  {
   "cell_type": "code",
   "execution_count": 72,
   "id": "8208fed4",
   "metadata": {},
   "outputs": [
    {
     "data": {
      "text/plain": [
       "'female of domestic cattle:'"
      ]
     },
     "execution_count": 72,
     "metadata": {},
     "output_type": "execute_result"
    }
   ],
   "source": [
    "sys[0].definition()"
   ]
  },
  {
   "cell_type": "code",
   "execution_count": 73,
   "id": "661a7b1d",
   "metadata": {},
   "outputs": [
    {
     "data": {
      "text/plain": [
       "[\"`moo-cow' is a child's term\"]"
      ]
     },
     "execution_count": 73,
     "metadata": {},
     "output_type": "execute_result"
    }
   ],
   "source": [
    "sys[0].examples()"
   ]
  },
  {
   "cell_type": "code",
   "execution_count": 74,
   "id": "d2a1d90b",
   "metadata": {},
   "outputs": [
    {
     "data": {
      "text/plain": [
       "[Synset('cattle.n.01')]"
      ]
     },
     "execution_count": 74,
     "metadata": {},
     "output_type": "execute_result"
    }
   ],
   "source": [
    "sys[0].hypernyms()"
   ]
  },
  {
   "cell_type": "code",
   "execution_count": 75,
   "id": "d1a0c26d",
   "metadata": {},
   "outputs": [
    {
     "data": {
      "text/plain": [
       "[Synset('africander.n.01'),\n",
       " Synset('beef.n.01'),\n",
       " Synset('bull.n.01'),\n",
       " Synset('bullock.n.02'),\n",
       " Synset('cow.n.01'),\n",
       " Synset('dairy_cattle.n.01'),\n",
       " Synset('devon.n.02'),\n",
       " Synset('grade.n.09'),\n",
       " Synset('ox.n.01'),\n",
       " Synset('red_poll.n.01'),\n",
       " Synset('stirk.n.01'),\n",
       " Synset('welsh.n.03')]"
      ]
     },
     "execution_count": 75,
     "metadata": {},
     "output_type": "execute_result"
    }
   ],
   "source": [
    "sys[0].hypernyms()[0].hyponyms()"
   ]
  },
  {
   "cell_type": "code",
   "execution_count": 76,
   "id": "e6fe96bf",
   "metadata": {},
   "outputs": [
    {
     "data": {
      "text/plain": [
       "[Synset('aberdeen_angus.n.01'),\n",
       " Synset('cattalo.n.01'),\n",
       " Synset('charolais.n.01'),\n",
       " Synset('durham.n.02'),\n",
       " Synset('galloway.n.02'),\n",
       " Synset('hereford.n.01'),\n",
       " Synset('longhorn.n.01'),\n",
       " Synset('santa_gertrudis.n.01')]"
      ]
     },
     "execution_count": 76,
     "metadata": {},
     "output_type": "execute_result"
    }
   ],
   "source": [
    "sys[0].hypernyms()[0].hyponyms()[1].hyponyms()"
   ]
  },
  {
   "cell_type": "code",
   "execution_count": 78,
   "id": "03e53749",
   "metadata": {},
   "outputs": [
    {
     "data": {
      "text/plain": [
       "[Synset('cow.n.01'),\n",
       " Synset('cow.n.02'),\n",
       " Synset('cow.n.03'),\n",
       " Synset('overawe.v.01')]"
      ]
     },
     "execution_count": 78,
     "metadata": {},
     "output_type": "execute_result"
    }
   ],
   "source": [
    "from nltk.corpus import wordnet as wn\n",
    "sys = wn.synsets('cow')\n",
    "sys"
   ]
  },
  {
   "cell_type": "code",
   "execution_count": 79,
   "id": "d56f0995",
   "metadata": {},
   "outputs": [
    {
     "data": {
      "text/plain": [
       "[Lemma('cow.n.01.cow'), Lemma('cow.n.01.moo-cow')]"
      ]
     },
     "execution_count": 79,
     "metadata": {},
     "output_type": "execute_result"
    }
   ],
   "source": [
    "sys[0].lemmas()"
   ]
  },
  {
   "cell_type": "code",
   "execution_count": 70,
   "id": "bca6d082",
   "metadata": {},
   "outputs": [
    {
     "data": {
      "text/plain": [
       "'cow'"
      ]
     },
     "execution_count": 70,
     "metadata": {},
     "output_type": "execute_result"
    }
   ],
   "source": [
    "sys[0].lemmas()[0].name()"
   ]
  },
  {
   "cell_type": "code",
   "execution_count": 84,
   "id": "e7d8b42a",
   "metadata": {},
   "outputs": [
    {
     "data": {
      "text/plain": [
       "[Lemma('beef.n.01.beef'), Lemma('beef.n.01.beef_cattle')]"
      ]
     },
     "execution_count": 84,
     "metadata": {},
     "output_type": "execute_result"
    }
   ],
   "source": [
    "sys[0].hypernyms()[0].hyponyms()[1].lemmas()"
   ]
  },
  {
   "cell_type": "code",
   "execution_count": null,
   "id": "1deb5154",
   "metadata": {},
   "outputs": [],
   "source": []
  },
  {
   "cell_type": "code",
   "execution_count": null,
   "id": "0a3dd2eb",
   "metadata": {},
   "outputs": [],
   "source": []
  },
  {
   "cell_type": "code",
   "execution_count": null,
   "id": "d8b7daa5",
   "metadata": {},
   "outputs": [],
   "source": []
  },
  {
   "cell_type": "code",
   "execution_count": null,
   "id": "61f64acb",
   "metadata": {},
   "outputs": [],
   "source": []
  },
  {
   "cell_type": "code",
   "execution_count": 85,
   "id": "06df5d79",
   "metadata": {},
   "outputs": [
    {
     "data": {
      "text/plain": [
       "[Synset('cow.n.01'),\n",
       " Synset('cow.n.02'),\n",
       " Synset('cow.n.03'),\n",
       " Synset('overawe.v.01')]"
      ]
     },
     "execution_count": 85,
     "metadata": {},
     "output_type": "execute_result"
    }
   ],
   "source": [
    "from nltk.corpus import wordnet as wn\n",
    "sys = wn.synsets('cow')\n",
    "sys"
   ]
  },
  {
   "cell_type": "code",
   "execution_count": 86,
   "id": "bfe85cb5",
   "metadata": {},
   "outputs": [
    {
     "name": "stdout",
     "output_type": "stream",
     "text": [
      "Synset('cow.n.01')\n",
      "Lemma('cow.n.01.cow')\n",
      "Lemma('cow.n.01.moo-cow')\n",
      "Synset('cow.n.02')\n",
      "Lemma('cow.n.02.cow')\n",
      "Synset('cow.n.03')\n",
      "Lemma('cow.n.03.cow')\n",
      "Synset('overawe.v.01')\n",
      "Lemma('overawe.v.01.overawe')\n",
      "Lemma('overawe.v.01.cow')\n"
     ]
    }
   ],
   "source": [
    "for sys_temp in sys: \n",
    "    print(sys_temp)\n",
    "    for lem in sys_temp.lemmas():\n",
    "        print(lem)"
   ]
  },
  {
   "cell_type": "code",
   "execution_count": 88,
   "id": "60fe03fb",
   "metadata": {},
   "outputs": [
    {
     "data": {
      "text/plain": [
       "['cow', 'moo-cow', 'cow', 'cow', 'overawe', 'cow']"
      ]
     },
     "execution_count": 88,
     "metadata": {},
     "output_type": "execute_result"
    }
   ],
   "source": [
    "synonym=[]\n",
    "for sys_temp in sys: \n",
    "    #print(sys_temp)\n",
    "    for lem in sys_temp.lemmas():\n",
    "        synonym.append(lem.name())\n",
    "synonym"
   ]
  },
  {
   "cell_type": "code",
   "execution_count": 89,
   "id": "a38c79be",
   "metadata": {},
   "outputs": [
    {
     "data": {
      "text/plain": [
       "{'cow', 'moo-cow', 'overawe'}"
      ]
     },
     "execution_count": 89,
     "metadata": {},
     "output_type": "execute_result"
    }
   ],
   "source": [
    "set(synonym)"
   ]
  },
  {
   "cell_type": "code",
   "execution_count": null,
   "id": "4a2ab92f",
   "metadata": {},
   "outputs": [],
   "source": []
  },
  {
   "cell_type": "code",
   "execution_count": null,
   "id": "a5443ab4",
   "metadata": {},
   "outputs": [],
   "source": []
  },
  {
   "cell_type": "code",
   "execution_count": 90,
   "id": "b0655dda",
   "metadata": {},
   "outputs": [
    {
     "data": {
      "text/plain": [
       "[Synset('good.n.01'),\n",
       " Synset('good.n.02'),\n",
       " Synset('good.n.03'),\n",
       " Synset('commodity.n.01'),\n",
       " Synset('good.a.01'),\n",
       " Synset('full.s.06'),\n",
       " Synset('good.a.03'),\n",
       " Synset('estimable.s.02'),\n",
       " Synset('beneficial.s.01'),\n",
       " Synset('good.s.06'),\n",
       " Synset('good.s.07'),\n",
       " Synset('adept.s.01'),\n",
       " Synset('good.s.09'),\n",
       " Synset('dear.s.02'),\n",
       " Synset('dependable.s.04'),\n",
       " Synset('good.s.12'),\n",
       " Synset('good.s.13'),\n",
       " Synset('effective.s.04'),\n",
       " Synset('good.s.15'),\n",
       " Synset('good.s.16'),\n",
       " Synset('good.s.17'),\n",
       " Synset('good.s.18'),\n",
       " Synset('good.s.19'),\n",
       " Synset('good.s.20'),\n",
       " Synset('good.s.21'),\n",
       " Synset('well.r.01'),\n",
       " Synset('thoroughly.r.02')]"
      ]
     },
     "execution_count": 90,
     "metadata": {},
     "output_type": "execute_result"
    }
   ],
   "source": [
    "syn=wn.synsets('good')\n",
    "syn"
   ]
  },
  {
   "cell_type": "code",
   "execution_count": 93,
   "id": "507c046d",
   "metadata": {},
   "outputs": [
    {
     "data": {
      "text/plain": [
       "[Lemma('evil.n.03.evil')]"
      ]
     },
     "execution_count": 93,
     "metadata": {},
     "output_type": "execute_result"
    }
   ],
   "source": [
    "syn[1].lemmas()[0].antonyms()"
   ]
  },
  {
   "cell_type": "code",
   "execution_count": 94,
   "id": "04919f1a",
   "metadata": {},
   "outputs": [
    {
     "data": {
      "text/plain": [
       "'evil'"
      ]
     },
     "execution_count": 94,
     "metadata": {},
     "output_type": "execute_result"
    }
   ],
   "source": [
    "syn[1].lemmas()[0].antonyms()[0].name()"
   ]
  },
  {
   "cell_type": "code",
   "execution_count": null,
   "id": "c896fd99",
   "metadata": {},
   "outputs": [],
   "source": []
  },
  {
   "cell_type": "code",
   "execution_count": null,
   "id": "ee98e45a",
   "metadata": {},
   "outputs": [],
   "source": []
  },
  {
   "cell_type": "code",
   "execution_count": 95,
   "id": "61df3712",
   "metadata": {},
   "outputs": [
    {
     "name": "stdout",
     "output_type": "stream",
     "text": [
      "Synset('addition.n.03')\n",
      "Lemma('addition.n.03.addition')\n",
      "Lemma('addition.n.03.increase')\n",
      "Lemma('addition.n.03.gain')\n",
      "Synset('increase.n.02')\n",
      "Lemma('increase.n.02.increase')\n",
      "Synset('increase.n.03')\n",
      "Lemma('increase.n.03.increase')\n",
      "Lemma('increase.n.03.increment')\n",
      "Lemma('increase.n.03.growth')\n",
      "Synset('increase.n.04')\n",
      "Lemma('increase.n.04.increase')\n",
      "Lemma('increase.n.04.increment')\n",
      "Synset('increase.n.05')\n",
      "Lemma('increase.n.05.increase')\n",
      "Lemma('increase.n.05.step-up')\n",
      "Synset('increase.v.01')\n",
      "Lemma('increase.v.01.increase')\n",
      "Synset('increase.v.02')\n",
      "Lemma('increase.v.02.increase')\n"
     ]
    }
   ],
   "source": [
    "for syn in wn.synsets(\"increase\"):\n",
    "    print(syn)\n",
    "    for lem in syn.lemmas():\n",
    "        print(lem)"
   ]
  },
  {
   "cell_type": "code",
   "execution_count": 101,
   "id": "de8a7c4f",
   "metadata": {},
   "outputs": [
    {
     "name": "stdout",
     "output_type": "stream",
     "text": [
      "[]\n",
      "[]\n",
      "[]\n",
      "[Lemma('decrease.n.01.decrease')]\n",
      "[Lemma('decrease.n.02.decrease')]\n",
      "[Lemma('decrease.n.02.decrement')]\n",
      "[]\n",
      "[Lemma('decrease.n.03.decrease')]\n",
      "[]\n",
      "[Lemma('decrease.n.04.decrease')]\n",
      "[]\n",
      "[Lemma('decrease.v.01.decrease')]\n",
      "[Lemma('decrease.v.02.decrease')]\n"
     ]
    }
   ],
   "source": [
    "for syn in wn.synsets(\"increase\"):\n",
    "    #print(syn)\n",
    "    for lem in syn.lemmas():\n",
    "        #print(lem)\n",
    "        print(lem.antonyms())"
   ]
  },
  {
   "cell_type": "code",
   "execution_count": 102,
   "id": "6c9592ff",
   "metadata": {},
   "outputs": [
    {
     "name": "stdout",
     "output_type": "stream",
     "text": [
      "[Lemma('decrease.n.01.decrease')]\n",
      "[Lemma('decrease.n.02.decrease')]\n",
      "[Lemma('decrease.n.02.decrement')]\n",
      "[Lemma('decrease.n.03.decrease')]\n",
      "[Lemma('decrease.n.04.decrease')]\n",
      "[Lemma('decrease.v.01.decrease')]\n",
      "[Lemma('decrease.v.02.decrease')]\n"
     ]
    }
   ],
   "source": [
    "for syn in wn.synsets(\"increase\"):\n",
    "    #print(syn)\n",
    "    for lem in syn.lemmas():\n",
    "        #print(lem)\n",
    "        if(lem.antonyms()):\n",
    "            print(lem.antonyms())"
   ]
  },
  {
   "cell_type": "code",
   "execution_count": 97,
   "id": "038df1d7",
   "metadata": {},
   "outputs": [
    {
     "data": {
      "text/plain": [
       "['decrease',\n",
       " 'decrease',\n",
       " 'decrement',\n",
       " 'decrease',\n",
       " 'decrease',\n",
       " 'decrease',\n",
       " 'decrease']"
      ]
     },
     "execution_count": 97,
     "metadata": {},
     "output_type": "execute_result"
    }
   ],
   "source": [
    "antonyms=[]\n",
    "for syn in wn.synsets(\"increase\"):\n",
    "    #print(syn)\n",
    "    for lem in syn.lemmas():\n",
    "        #print(lem)\n",
    "        if(lem.antonyms()):\n",
    "            antonyms.append(lem.antonyms()[0].name())\n",
    "antonyms"
   ]
  },
  {
   "cell_type": "code",
   "execution_count": 98,
   "id": "0673960f",
   "metadata": {},
   "outputs": [
    {
     "data": {
      "text/plain": [
       "{'decrease', 'decrement'}"
      ]
     },
     "execution_count": 98,
     "metadata": {},
     "output_type": "execute_result"
    }
   ],
   "source": [
    "set(antonyms)"
   ]
  },
  {
   "cell_type": "code",
   "execution_count": null,
   "id": "753c04f8",
   "metadata": {},
   "outputs": [],
   "source": []
  },
  {
   "cell_type": "code",
   "execution_count": null,
   "id": "95fecfa6",
   "metadata": {},
   "outputs": [],
   "source": []
  },
  {
   "cell_type": "code",
   "execution_count": null,
   "id": "42a903a8",
   "metadata": {},
   "outputs": [],
   "source": [
    "##"
   ]
  },
  {
   "cell_type": "code",
   "execution_count": 106,
   "id": "392e2899",
   "metadata": {},
   "outputs": [
    {
     "data": {
      "text/plain": [
       "'write'"
      ]
     },
     "execution_count": 106,
     "metadata": {},
     "output_type": "execute_result"
    }
   ],
   "source": [
    "from nltk.stem import PorterStemmer\n",
    "port_stemmer = PorterStemmer()\n",
    "port_stemmer.stem('writing')"
   ]
  },
  {
   "cell_type": "code",
   "execution_count": 110,
   "id": "36a4f90f",
   "metadata": {},
   "outputs": [
    {
     "data": {
      "text/plain": [
       "'writ'"
      ]
     },
     "execution_count": 110,
     "metadata": {},
     "output_type": "execute_result"
    }
   ],
   "source": [
    "from nltk.stem import LancasterStemmer\n",
    "lanc_stemmer = LancasterStemmer()\n",
    "lanc_stemmer.stem('writing')"
   ]
  },
  {
   "cell_type": "code",
   "execution_count": 111,
   "id": "8033a68c",
   "metadata": {},
   "outputs": [
    {
     "data": {
      "text/plain": [
       "'write'"
      ]
     },
     "execution_count": 111,
     "metadata": {},
     "output_type": "execute_result"
    }
   ],
   "source": [
    "from nltk.stem import SnowballStemmer\n",
    "snowball_stemmer = PorterStemmer()\n",
    "snowball_stemmer.stem('writing')"
   ]
  },
  {
   "cell_type": "code",
   "execution_count": 112,
   "id": "f2b6be62",
   "metadata": {},
   "outputs": [
    {
     "name": "stdout",
     "output_type": "stream",
     "text": [
      "fairli\n",
      "fair\n",
      "fairli\n"
     ]
    }
   ],
   "source": [
    "print(port_stemmer.stem('fairly'))\n",
    "print(lanc_stemmer.stem('fairly'))\n",
    "print(snowball_stemmer.stem('fairly'))"
   ]
  },
  {
   "cell_type": "code",
   "execution_count": null,
   "id": "262cac02",
   "metadata": {},
   "outputs": [],
   "source": []
  },
  {
   "cell_type": "code",
   "execution_count": null,
   "id": "8b556a75",
   "metadata": {},
   "outputs": [],
   "source": [
    "#lemmatizer vs stemmer(75%/25% )\n",
    "#we will be getting a valid word that means the same thing"
   ]
  },
  {
   "cell_type": "code",
   "execution_count": 113,
   "id": "30156e51",
   "metadata": {},
   "outputs": [
    {
     "data": {
      "text/plain": [
       "'book'"
      ]
     },
     "execution_count": 113,
     "metadata": {},
     "output_type": "execute_result"
    }
   ],
   "source": [
    "from nltk.stem import WordNetLemmatizer\n",
    "lemmatizer = WordNetLemmatizer()\n",
    "lemmatizer.lemmatize('books')"
   ]
  },
  {
   "cell_type": "code",
   "execution_count": 115,
   "id": "008b21f4",
   "metadata": {},
   "outputs": [
    {
     "name": "stdout",
     "output_type": "stream",
     "text": [
      "believ\n",
      "belief\n"
     ]
    }
   ],
   "source": [
    "print(port_stemmer.stem('believes'))\n",
    "print(lemmatizer.lemmatize('believes'))"
   ]
  },
  {
   "cell_type": "code",
   "execution_count": 120,
   "id": "74769a0f",
   "metadata": {},
   "outputs": [
    {
     "name": "stdout",
     "output_type": "stream",
     "text": [
      "|word                |porter_stemmer      |lemmatizer          |\n",
      "|guava               |guava               |guava               |\n",
      "|friendship          |friendship          |friendship          |\n",
      "|don                 |don                 |don                 |\n",
      "|dog                 |dog                 |dog                 |\n"
     ]
    }
   ],
   "source": [
    "words=[\"guava\",\"friendship\",\"don\", \"dog\"]\n",
    "\n",
    "print(\"|{0:20}|{1:20}|{2:20}|\".format(\"word\",\"porter_stemmer\",\"lemmatizer\"))\n",
    "for i in words:\n",
    "    print(\"|{0:20}|{1:20}|{2:20}|\".format(i,port_stemmer.stem(i),lemmatizer.lemmatize(i)))"
   ]
  },
  {
   "cell_type": "code",
   "execution_count": null,
   "id": "157a7d92",
   "metadata": {},
   "outputs": [],
   "source": []
  }
 ],
 "metadata": {
  "kernelspec": {
   "display_name": "Python 3 (ipykernel)",
   "language": "python",
   "name": "python3"
  },
  "language_info": {
   "codemirror_mode": {
    "name": "ipython",
    "version": 3
   },
   "file_extension": ".py",
   "mimetype": "text/x-python",
   "name": "python",
   "nbconvert_exporter": "python",
   "pygments_lexer": "ipython3",
   "version": "3.8.12"
  }
 },
 "nbformat": 4,
 "nbformat_minor": 5
}
